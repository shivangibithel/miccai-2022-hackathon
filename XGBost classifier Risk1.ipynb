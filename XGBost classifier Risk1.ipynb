{
 "cells": [
  {
   "cell_type": "code",
   "execution_count": 1,
   "id": "053cec8d",
   "metadata": {},
   "outputs": [],
   "source": [
    "import numpy as np \n",
    "import pandas as pd \n",
    "import matplotlib.pyplot as plt\n",
    "import seaborn as sns\n",
    "\n",
    "from sklearn.pipeline import Pipeline, FeatureUnion\n",
    "from sklearn.preprocessing import OneHotEncoder, StandardScaler\n",
    "from sklearn.model_selection import RandomizedSearchCV, train_test_split\n",
    "from sklearn.base import BaseEstimator, TransformerMixin\n",
    "from sklearn.metrics import mean_squared_error\n",
    "\n",
    "import xgboost as xgb"
   ]
  },
  {
   "cell_type": "code",
   "execution_count": 2,
   "id": "e971a117",
   "metadata": {},
   "outputs": [
    {
     "name": "stdout",
     "output_type": "stream",
     "text": [
      "1000 250 250\n"
     ]
    },
    {
     "data": {
      "text/html": [
       "<div>\n",
       "<style scoped>\n",
       "    .dataframe tbody tr th:only-of-type {\n",
       "        vertical-align: middle;\n",
       "    }\n",
       "\n",
       "    .dataframe tbody tr th {\n",
       "        vertical-align: top;\n",
       "    }\n",
       "\n",
       "    .dataframe thead th {\n",
       "        text-align: right;\n",
       "    }\n",
       "</style>\n",
       "<table border=\"1\" class=\"dataframe\">\n",
       "  <thead>\n",
       "    <tr style=\"text-align: right;\">\n",
       "      <th></th>\n",
       "      <th>Albumin</th>\n",
       "      <th>Calcium</th>\n",
       "      <th>Immature Granulocytes</th>\n",
       "      <th>Lymphocytes</th>\n",
       "      <th>Neutrophils</th>\n",
       "      <th>Glucose</th>\n",
       "      <th>M.C.H. (Hb/Rbc)</th>\n",
       "      <th>M.C.H.C. (Hb/Ht)</th>\n",
       "      <th>Magnesium</th>\n",
       "      <th>Sodium</th>\n",
       "      <th>...</th>\n",
       "      <th>renal_cysts</th>\n",
       "      <th>liver_cysts</th>\n",
       "      <th>kidney_stones</th>\n",
       "      <th>bladder_stones</th>\n",
       "      <th>distended_bowels</th>\n",
       "      <th>ground_glass</th>\n",
       "      <th>temperature</th>\n",
       "      <th>risk_1</th>\n",
       "      <th>risk_2</th>\n",
       "      <th>risk_3</th>\n",
       "    </tr>\n",
       "  </thead>\n",
       "  <tbody>\n",
       "    <tr>\n",
       "      <th>0</th>\n",
       "      <td>37.233024</td>\n",
       "      <td>2.381028</td>\n",
       "      <td>0.162536</td>\n",
       "      <td>1.411932</td>\n",
       "      <td>7.298400</td>\n",
       "      <td>6.621198</td>\n",
       "      <td>1.838717</td>\n",
       "      <td>20.143707</td>\n",
       "      <td>0.799493</td>\n",
       "      <td>139.225433</td>\n",
       "      <td>...</td>\n",
       "      <td>0.0</td>\n",
       "      <td>0.0</td>\n",
       "      <td>0.0</td>\n",
       "      <td>0.0</td>\n",
       "      <td>0.0</td>\n",
       "      <td>0.0</td>\n",
       "      <td>36.521381</td>\n",
       "      <td>0.0</td>\n",
       "      <td>0.0</td>\n",
       "      <td>0.0</td>\n",
       "    </tr>\n",
       "    <tr>\n",
       "      <th>1</th>\n",
       "      <td>40.402299</td>\n",
       "      <td>2.377734</td>\n",
       "      <td>0.180150</td>\n",
       "      <td>1.313277</td>\n",
       "      <td>8.037804</td>\n",
       "      <td>7.154653</td>\n",
       "      <td>1.839412</td>\n",
       "      <td>20.088523</td>\n",
       "      <td>0.812435</td>\n",
       "      <td>139.908419</td>\n",
       "      <td>...</td>\n",
       "      <td>1.0</td>\n",
       "      <td>1.0</td>\n",
       "      <td>0.0</td>\n",
       "      <td>0.0</td>\n",
       "      <td>0.0</td>\n",
       "      <td>0.0</td>\n",
       "      <td>35.825013</td>\n",
       "      <td>0.0</td>\n",
       "      <td>0.0</td>\n",
       "      <td>0.0</td>\n",
       "    </tr>\n",
       "  </tbody>\n",
       "</table>\n",
       "<p>2 rows × 31 columns</p>\n",
       "</div>"
      ],
      "text/plain": [
       "     Albumin   Calcium  Immature Granulocytes  Lymphocytes  Neutrophils  \\\n",
       "0  37.233024  2.381028               0.162536     1.411932     7.298400   \n",
       "1  40.402299  2.377734               0.180150     1.313277     8.037804   \n",
       "\n",
       "    Glucose  M.C.H. (Hb/Rbc)  M.C.H.C. (Hb/Ht)  Magnesium      Sodium  ...  \\\n",
       "0  6.621198         1.838717         20.143707   0.799493  139.225433  ...   \n",
       "1  7.154653         1.839412         20.088523   0.812435  139.908419  ...   \n",
       "\n",
       "   renal_cysts  liver_cysts  kidney_stones  bladder_stones  distended_bowels  \\\n",
       "0          0.0          0.0            0.0             0.0               0.0   \n",
       "1          1.0          1.0            0.0             0.0               0.0   \n",
       "\n",
       "   ground_glass  temperature  risk_1  risk_2  risk_3  \n",
       "0           0.0    36.521381     0.0     0.0     0.0  \n",
       "1           0.0    35.825013     0.0     0.0     0.0  \n",
       "\n",
       "[2 rows x 31 columns]"
      ]
     },
     "execution_count": 2,
     "metadata": {},
     "output_type": "execute_result"
    }
   ],
   "source": [
    "train = pd.read_csv(\"train.csv\",index_col=0)\n",
    "val = pd.read_csv(\"val.csv\",index_col=0)\n",
    "test = pd.read_csv(\"test.csv\",index_col=0)\n",
    "print(len(train), len(val), len(test))\n",
    "train.head(2)"
   ]
  },
  {
   "cell_type": "code",
   "execution_count": 3,
   "id": "933ca38e",
   "metadata": {},
   "outputs": [
    {
     "name": "stdout",
     "output_type": "stream",
     "text": [
      "['Albumin', 'Calcium', 'Immature Granulocytes', 'Lymphocytes', 'Neutrophils', 'Glucose', 'M.C.H. (Hb/Rbc)', 'M.C.H.C. (Hb/Ht)', 'Magnesium', 'Sodium', 'Thrombocytes', 'Urea', 'Leukocytes', 'Chloride', 'Phosphate', 'Reticulocytes', 'Segmentc. granulocytes', 'Erythroblasts', 'IL-6', 'atelectasis', 'fatty_liver', 'renal_cysts', 'liver_cysts', 'kidney_stones', 'bladder_stones', 'distended_bowels', 'ground_glass', 'temperature']\n"
     ]
    }
   ],
   "source": [
    "features_to_keep = list(train)[:-3]\n",
    "print(features_to_keep)"
   ]
  },
  {
   "cell_type": "code",
   "execution_count": 4,
   "id": "63a7d9e8",
   "metadata": {},
   "outputs": [
    {
     "name": "stdout",
     "output_type": "stream",
     "text": [
      "1500\n",
      "(1500, 28) (1500,)\n"
     ]
    }
   ],
   "source": [
    "# combining to one single dataframe\n",
    "train.reset_index(drop=True, inplace=True)\n",
    "val.reset_index(drop=True, inplace=True)\n",
    "test.reset_index(drop=True, inplace=True)\n",
    "\n",
    "data = pd.concat( [train,val,test], axis=0) \n",
    "print(len(data))\n",
    "\n",
    "X, Y = data.iloc[:,:-3],data.iloc[:,-3]\n",
    "print(X.shape,Y.shape)"
   ]
  },
  {
   "cell_type": "code",
   "execution_count": 5,
   "id": "df4e737c",
   "metadata": {},
   "outputs": [],
   "source": [
    "data_dmatrix = xgb.DMatrix(data=X,label=Y)"
   ]
  },
  {
   "cell_type": "code",
   "execution_count": 6,
   "id": "148fc27b",
   "metadata": {},
   "outputs": [
    {
     "name": "stdout",
     "output_type": "stream",
     "text": [
      "(1250, 28) (1250,)\n",
      "(250, 28) (250,)\n"
     ]
    }
   ],
   "source": [
    "train.reset_index(drop=True, inplace=True)\n",
    "val.reset_index(drop=True, inplace=True)\n",
    "data = pd.concat( [train,val], axis=0) \n",
    "\n",
    "X_train, Y_train = data.iloc[:,:-3],data.iloc[:,-3]\n",
    "print(X_train.shape, Y_train.shape)\n",
    "\n",
    "X_test, Y_test = test.iloc[:,:-3],test.iloc[:,-3]\n",
    "print(X_test.shape, Y_test.shape)"
   ]
  },
  {
   "cell_type": "code",
   "execution_count": 7,
   "id": "9ad98c41",
   "metadata": {},
   "outputs": [],
   "source": [
    "# from sklearn.model_selection import train_test_split\n",
    "# X_train, X_test, Y_train, Y_test = train_test_split(X, Y, test_size=0.167, random_state=123)\n",
    "# print(X_train.shape, Y_train.shape)\n",
    "# print(X_test.shape, Y_test.shape)"
   ]
  },
  {
   "cell_type": "code",
   "execution_count": 8,
   "id": "1a89752a",
   "metadata": {},
   "outputs": [],
   "source": [
    "xg_reg = xgb.XGBRegressor(objective ='reg:linear', colsample_bytree = 0.3, learning_rate = 0.1,max_depth = 5, alpha = 10, n_estimators = 10)"
   ]
  },
  {
   "cell_type": "code",
   "execution_count": 9,
   "id": "d5d2023c",
   "metadata": {},
   "outputs": [
    {
     "name": "stdout",
     "output_type": "stream",
     "text": [
      "[15:18:33] WARNING: ../src/objective/regression_obj.cu:203: reg:linear is now deprecated in favor of reg:squarederror.\n"
     ]
    },
    {
     "data": {
      "text/plain": [
       "XGBRegressor(alpha=10, base_score=0.5, booster='gbtree', callbacks=None,\n",
       "             colsample_bylevel=1, colsample_bynode=1, colsample_bytree=0.3,\n",
       "             early_stopping_rounds=None, enable_categorical=False,\n",
       "             eval_metric=None, gamma=0, gpu_id=-1, grow_policy='depthwise',\n",
       "             importance_type=None, interaction_constraints='',\n",
       "             learning_rate=0.1, max_bin=256, max_cat_to_onehot=4,\n",
       "             max_delta_step=0, max_depth=5, max_leaves=0, min_child_weight=1,\n",
       "             missing=nan, monotone_constraints='()', n_estimators=10, n_jobs=0,\n",
       "             num_parallel_tree=1, objective='reg:linear', predictor='auto',\n",
       "             random_state=0, ...)"
      ]
     },
     "execution_count": 9,
     "metadata": {},
     "output_type": "execute_result"
    }
   ],
   "source": [
    "xg_reg.fit(X_train,Y_train)"
   ]
  },
  {
   "cell_type": "code",
   "execution_count": 10,
   "id": "32825d4f",
   "metadata": {
    "scrolled": true
   },
   "outputs": [
    {
     "data": {
      "text/plain": [
       "array([0.2893563 , 0.29976594, 0.32610148, 0.29139873, 0.26939356,\n",
       "       0.26939356, 0.36562002, 0.29139873, 0.26939356, 0.26939356,\n",
       "       0.26939356, 0.26939356, 0.30205095, 0.26939356, 0.26939356,\n",
       "       0.26939356, 0.45358938, 0.26939356, 0.3053869 , 0.31972867,\n",
       "       0.26939356, 0.29139873, 0.33588088, 0.26939356, 0.31812057,\n",
       "       0.26939356, 0.26939356, 0.2831647 , 0.36562002, 0.26939356,\n",
       "       0.36562002, 0.26939356, 0.297406  , 0.26939356, 0.26939356,\n",
       "       0.32405612, 0.32276553, 0.29139873, 0.33588088, 0.32610148,\n",
       "       0.32177112, 0.33588088, 0.26939356, 0.32276553, 0.26939356,\n",
       "       0.26939356, 0.26939356, 0.26939356, 0.26939356, 0.2831647 ,\n",
       "       0.31972867, 0.44587848, 0.31812057, 0.26939356, 0.26939356,\n",
       "       0.26939356, 0.26939356, 0.26939356, 0.26939356, 0.26939356,\n",
       "       0.47028393, 0.26939356, 0.26939356, 0.26939356, 0.43210733,\n",
       "       0.42037478, 0.26939356, 0.32992223, 0.26939356, 0.297406  ,\n",
       "       0.26939356, 0.26939356, 0.26939356, 0.26939356, 0.29976594,\n",
       "       0.26939356, 0.42580178, 0.31812057, 0.26939356, 0.26939356,\n",
       "       0.26939356, 0.297406  , 0.33588088, 0.33588088, 0.26939356,\n",
       "       0.26939356, 0.3903887 , 0.31812057, 0.26939356, 0.26939356,\n",
       "       0.26939356, 0.26939356, 0.26939356, 0.26939356, 0.26939356,\n",
       "       0.32276553, 0.26939356, 0.3053869 , 0.35736293, 0.26939356,\n",
       "       0.26939356, 0.26939356, 0.34252602, 0.26939356, 0.34359178,\n",
       "       0.26939356, 0.32992223, 0.26939356, 0.26939356, 0.34617656,\n",
       "       0.297406  , 0.26939356, 0.3241714 , 0.26939356, 0.26939356,\n",
       "       0.30205095, 0.2831647 , 0.26939356, 0.26939356, 0.26939356,\n",
       "       0.35983536, 0.26939356, 0.26939356, 0.26939356, 0.297406  ,\n",
       "       0.26939356, 0.3053869 , 0.39923963, 0.26939356, 0.4534208 ,\n",
       "       0.297406  , 0.26939356, 0.3205938 , 0.26939356, 0.26939356,\n",
       "       0.32276553, 0.26939356, 0.26939356, 0.35463881, 0.32610148,\n",
       "       0.26939356, 0.31003186, 0.26939356, 0.26939356, 0.26939356,\n",
       "       0.26939356, 0.26939356, 0.26939356, 0.3053869 , 0.26939356,\n",
       "       0.31580418, 0.3380833 , 0.26939356, 0.34965202, 0.26939356,\n",
       "       0.39923963, 0.26939356, 0.26939356, 0.33588088, 0.26939356,\n",
       "       0.34359178, 0.36562002, 0.26939356, 0.26939356, 0.26939356,\n",
       "       0.2831647 , 0.26939356, 0.33588088, 0.26939356, 0.44143087,\n",
       "       0.26939356, 0.297406  , 0.297406  , 0.26939356, 0.26939356,\n",
       "       0.26939356, 0.33588088, 0.41481438, 0.33588088, 0.26939356,\n",
       "       0.47028393, 0.26939356, 0.26939356, 0.26939356, 0.33588088,\n",
       "       0.26939356, 0.33203703, 0.26939356, 0.26939356, 0.26939356,\n",
       "       0.26939356, 0.26939356, 0.26939356, 0.31812057, 0.36839876,\n",
       "       0.26939356, 0.26939356, 0.29139873, 0.26939356, 0.26939356,\n",
       "       0.33240542, 0.26939356, 0.31812057, 0.3716572 , 0.26939356,\n",
       "       0.26939356, 0.2893563 , 0.26939356, 0.31812057, 0.33074644,\n",
       "       0.26939356, 0.26939356, 0.26939356, 0.26939356, 0.26939356,\n",
       "       0.26939356, 0.26939356, 0.26939356, 0.33588088, 0.26939356,\n",
       "       0.26939356, 0.26939356, 0.26939356, 0.26939356, 0.32610148,\n",
       "       0.2859948 , 0.32276553, 0.26939356, 0.2831647 , 0.293799  ,\n",
       "       0.26939356, 0.26939356, 0.26939356, 0.26939356, 0.26939356,\n",
       "       0.26939356, 0.26939356, 0.33987263, 0.34359178, 0.26939356,\n",
       "       0.33588088, 0.2893563 , 0.26939356, 0.26939356, 0.26939356,\n",
       "       0.26939356, 0.32276553, 0.2893563 , 0.26939356, 0.36562002],\n",
       "      dtype=float32)"
      ]
     },
     "execution_count": 10,
     "metadata": {},
     "output_type": "execute_result"
    }
   ],
   "source": [
    "preds = xg_reg.predict(X_test)\n",
    "preds"
   ]
  },
  {
   "cell_type": "code",
   "execution_count": 11,
   "id": "3db37914",
   "metadata": {},
   "outputs": [
    {
     "name": "stdout",
     "output_type": "stream",
     "text": [
      "RMSE: 0.388200\n"
     ]
    }
   ],
   "source": [
    "rmse = np.sqrt(mean_squared_error(Y_test, preds))\n",
    "print(\"RMSE: %f\" % (rmse))"
   ]
  },
  {
   "cell_type": "code",
   "execution_count": 12,
   "id": "609efa44",
   "metadata": {},
   "outputs": [],
   "source": [
    "from numpy import loadtxt\n",
    "from xgboost import XGBClassifier\n",
    "from xgboost import plot_importance\n",
    "from matplotlib import pyplot"
   ]
  },
  {
   "cell_type": "code",
   "execution_count": 13,
   "id": "eda18745",
   "metadata": {},
   "outputs": [],
   "source": [
    "model = XGBClassifier()"
   ]
  },
  {
   "cell_type": "code",
   "execution_count": 14,
   "id": "00b54cde",
   "metadata": {},
   "outputs": [
    {
     "data": {
      "text/plain": [
       "XGBClassifier(base_score=0.5, booster='gbtree', callbacks=None,\n",
       "              colsample_bylevel=1, colsample_bynode=1, colsample_bytree=1,\n",
       "              early_stopping_rounds=None, enable_categorical=False,\n",
       "              eval_metric=None, gamma=0, gpu_id=-1, grow_policy='depthwise',\n",
       "              importance_type=None, interaction_constraints='',\n",
       "              learning_rate=0.300000012, max_bin=256, max_cat_to_onehot=4,\n",
       "              max_delta_step=0, max_depth=6, max_leaves=0, min_child_weight=1,\n",
       "              missing=nan, monotone_constraints='()', n_estimators=100,\n",
       "              n_jobs=0, num_parallel_tree=1, predictor='auto', random_state=0,\n",
       "              reg_alpha=0, reg_lambda=1, ...)"
      ]
     },
     "execution_count": 14,
     "metadata": {},
     "output_type": "execute_result"
    }
   ],
   "source": [
    "model.fit(X, Y)"
   ]
  },
  {
   "cell_type": "code",
   "execution_count": 15,
   "id": "38a720ec",
   "metadata": {},
   "outputs": [
    {
     "data": {
      "image/png": "[encoded data removed]",
      "text/plain": [
       "<Figure size 432x288 with 1 Axes>"
      ]
     },
     "metadata": {
      "needs_background": "light"
     },
     "output_type": "display_data"
    }
   ],
   "source": [
    "plot_importance(model)\n",
    "pyplot.show()"
   ]
  },
  {
   "cell_type": "markdown",
   "id": "0d918ee7",
   "metadata": {},
   "source": [
    "We have built XGBoost model for predicting the likelihood of getting heart disease and the model has 0.39 rmse.\n",
    "We have also found that the most important factor in finding out the heart disease is Thrombocytes."
   ]
  },
  {
   "cell_type": "code",
   "execution_count": null,
   "id": "ef3b2a4c",
   "metadata": {},
   "outputs": [],
   "source": []
  }
 ],
 "metadata": {
  "kernelspec": {
   "display_name": "Python 3 (ipykernel)",
   "language": "python",
   "name": "python3"
  },
  "language_info": {
   "codemirror_mode": {
    "name": "ipython",
    "version": 3
   },
   "file_extension": ".py",
   "mimetype": "text/x-python",
   "name": "python",
   "nbconvert_exporter": "python",
   "pygments_lexer": "ipython3",
   "version": "3.9.7"
  }
 },
 "nbformat": 4,
 "nbformat_minor": 5
}
